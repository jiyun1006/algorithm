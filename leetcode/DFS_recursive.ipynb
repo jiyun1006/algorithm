{
 "cells": [
  {
   "cell_type": "code",
   "execution_count": 6,
   "metadata": {},
   "outputs": [
    {
     "data": {
      "text/plain": [
       "'discovered : [1, 2, 5, 6, 7, 3, 4]'"
      ]
     },
     "execution_count": 6,
     "metadata": {},
     "output_type": "execute_result"
    }
   ],
   "source": [
    "graph = { 1:[2,3,4], 2:[5], 3:[5], 4:[], 5 : [6,7], 6 :[], 7:[3],}\n",
    "\n",
    "def dfs_recursive(v, discovered=[]):\n",
    "    discovered.append(v)\n",
    "    for i in graph[v]:\n",
    "        if i not in  discovered:\n",
    "            dfs_recursive(i,discovered)\n",
    "    return discovered\n",
    "\n",
    "f'discovered : {dfs_recursive(1)}'"
   ]
  }
 ],
 "metadata": {
  "kernelspec": {
   "display_name": "Python 3",
   "language": "python",
   "name": "python3"
  },
  "language_info": {
   "codemirror_mode": {
    "name": "ipython",
    "version": 3
   },
   "file_extension": ".py",
   "mimetype": "text/x-python",
   "name": "python",
   "nbconvert_exporter": "python",
   "pygments_lexer": "ipython3",
   "version": "3.7.6"
  }
 },
 "nbformat": 4,
 "nbformat_minor": 4
}
