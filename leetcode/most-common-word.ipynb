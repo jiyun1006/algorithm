{
 "cells": [
  {
   "cell_type": "code",
   "execution_count": 43,
   "metadata": {},
   "outputs": [
    {
     "name": "stdout",
     "output_type": "stream",
     "text": [
      "[('ball', 2)]\n"
     ]
    }
   ],
   "source": [
    "import re\n",
    "from collections import defaultdict, Counter\n",
    "\n",
    "paragraph = 'Bob hit a ball, the hit BALL flew far after it was hit.'\n",
    "\n",
    "banned = ['hit']\n",
    "\n",
    "par = [par for par in re.sub('[^\\w]', ' ', paragraph).lower().split() if par not in banned]\n",
    "\n",
    "\n",
    "counts = Counter(par)\n",
    "print(counts.most_common(1))"
   ]
  }
 ],
 "metadata": {
  "kernelspec": {
   "display_name": "Python 3",
   "language": "python",
   "name": "python3"
  },
  "language_info": {
   "codemirror_mode": {
    "name": "ipython",
    "version": 3
   },
   "file_extension": ".py",
   "mimetype": "text/x-python",
   "name": "python",
   "nbconvert_exporter": "python",
   "pygments_lexer": "ipython3",
   "version": "3.7.6"
  }
 },
 "nbformat": 4,
 "nbformat_minor": 4
}
